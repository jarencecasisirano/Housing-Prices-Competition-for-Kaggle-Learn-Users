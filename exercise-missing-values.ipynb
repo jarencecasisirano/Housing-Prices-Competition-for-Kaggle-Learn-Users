{
 "cells": [
  {
   "cell_type": "markdown",
   "id": "5d5f2ca8",
   "metadata": {
    "papermill": {
     "duration": 0.043287,
     "end_time": "2022-04-07T16:59:12.908981",
     "exception": false,
     "start_time": "2022-04-07T16:59:12.865694",
     "status": "completed"
    },
    "tags": []
   },
   "source": [
    "**This notebook is an exercise in the [Intermediate Machine Learning](https://www.kaggle.com/learn/intermediate-machine-learning) course.  You can reference the tutorial at [this link](https://www.kaggle.com/alexisbcook/missing-values).**\n",
    "\n",
    "---\n"
   ]
  },
  {
   "cell_type": "markdown",
   "id": "200eec6e",
   "metadata": {
    "papermill": {
     "duration": 0.033647,
     "end_time": "2022-04-07T16:59:12.979645",
     "exception": false,
     "start_time": "2022-04-07T16:59:12.945998",
     "status": "completed"
    },
    "tags": []
   },
   "source": [
    "Now it's your turn to test your new knowledge of **missing values** handling. You'll probably find it makes a big difference.\n",
    "\n",
    "# Setup\n",
    "\n",
    "The questions will give you feedback on your work. Run the following cell to set up the feedback system."
   ]
  },
  {
   "cell_type": "code",
   "execution_count": 1,
   "id": "d54dd9d4",
   "metadata": {
    "execution": {
     "iopub.execute_input": "2022-04-07T16:59:13.052699Z",
     "iopub.status.busy": "2022-04-07T16:59:13.051560Z",
     "iopub.status.idle": "2022-04-07T16:59:13.100249Z",
     "shell.execute_reply": "2022-04-07T16:59:13.101105Z",
     "shell.execute_reply.started": "2022-04-07T16:29:12.574958Z"
    },
    "papermill": {
     "duration": 0.088152,
     "end_time": "2022-04-07T16:59:13.101490",
     "exception": false,
     "start_time": "2022-04-07T16:59:13.013338",
     "status": "completed"
    },
    "tags": []
   },
   "outputs": [
    {
     "name": "stdout",
     "output_type": "stream",
     "text": [
      "Setup Complete\n"
     ]
    }
   ],
   "source": [
    "# Set up code checking\n",
    "import os\n",
    "if not os.path.exists(\"../input/train.csv\"):\n",
    "    os.symlink(\"../input/home-data-for-ml-course/train.csv\", \"../input/train.csv\")  \n",
    "    os.symlink(\"../input/home-data-for-ml-course/test.csv\", \"../input/test.csv\") \n",
    "from learntools.core import binder\n",
    "binder.bind(globals())\n",
    "from learntools.ml_intermediate.ex2 import *\n",
    "print(\"Setup Complete\")"
   ]
  },
  {
   "cell_type": "markdown",
   "id": "1f715ba7",
   "metadata": {
    "papermill": {
     "duration": 0.034725,
     "end_time": "2022-04-07T16:59:13.172023",
     "exception": false,
     "start_time": "2022-04-07T16:59:13.137298",
     "status": "completed"
    },
    "tags": []
   },
   "source": [
    "In this exercise, you will work with data from the [Housing Prices Competition for Kaggle Learn Users](https://www.kaggle.com/c/home-data-for-ml-course). \n",
    "\n",
    "![Ames Housing dataset image](https://i.imgur.com/lTJVG4e.png)\n",
    "\n",
    "Run the next code cell without changes to load the training and validation sets in `X_train`, `X_valid`, `y_train`, and `y_valid`.  The test set is loaded in `X_test`."
   ]
  },
  {
   "cell_type": "code",
   "execution_count": 2,
   "id": "5de9f3af",
   "metadata": {
    "execution": {
     "iopub.execute_input": "2022-04-07T16:59:13.243682Z",
     "iopub.status.busy": "2022-04-07T16:59:13.243054Z",
     "iopub.status.idle": "2022-04-07T16:59:14.394011Z",
     "shell.execute_reply": "2022-04-07T16:59:14.394561Z",
     "shell.execute_reply.started": "2022-04-07T16:29:17.611867Z"
    },
    "papermill": {
     "duration": 1.18841,
     "end_time": "2022-04-07T16:59:14.394740",
     "exception": false,
     "start_time": "2022-04-07T16:59:13.206330",
     "status": "completed"
    },
    "tags": []
   },
   "outputs": [],
   "source": [
    "import pandas as pd\n",
    "from sklearn.model_selection import train_test_split\n",
    "\n",
    "# Read the data\n",
    "X_full = pd.read_csv('../input/train.csv', index_col='Id')\n",
    "X_test_full = pd.read_csv('../input/test.csv', index_col='Id')\n",
    "\n",
    "# Remove rows with missing target, separate target from predictors\n",
    "X_full.dropna(axis=0, subset=['SalePrice'], inplace=True)\n",
    "y = X_full.SalePrice\n",
    "X_full.drop(['SalePrice'], axis=1, inplace=True)\n",
    "\n",
    "# To keep things simple, we'll use only numerical predictors\n",
    "X = X_full.select_dtypes(exclude=['object'])\n",
    "X_test = X_test_full.select_dtypes(exclude=['object'])\n",
    "\n",
    "# Break off validation set from training data\n",
    "X_train, X_valid, y_train, y_valid = train_test_split(X, y, train_size=0.8, test_size=0.2,\n",
    "                                                      random_state=0)"
   ]
  },
  {
   "cell_type": "markdown",
   "id": "28410fce",
   "metadata": {
    "papermill": {
     "duration": 0.035694,
     "end_time": "2022-04-07T16:59:14.464769",
     "exception": false,
     "start_time": "2022-04-07T16:59:14.429075",
     "status": "completed"
    },
    "tags": []
   },
   "source": [
    "Use the next code cell to print the first five rows of the data."
   ]
  },
  {
   "cell_type": "code",
   "execution_count": 3,
   "id": "3cbe1e92",
   "metadata": {
    "execution": {
     "iopub.execute_input": "2022-04-07T16:59:14.536953Z",
     "iopub.status.busy": "2022-04-07T16:59:14.536297Z",
     "iopub.status.idle": "2022-04-07T16:59:14.562530Z",
     "shell.execute_reply": "2022-04-07T16:59:14.563033Z",
     "shell.execute_reply.started": "2022-04-07T16:33:18.723715Z"
    },
    "papermill": {
     "duration": 0.063807,
     "end_time": "2022-04-07T16:59:14.563203",
     "exception": false,
     "start_time": "2022-04-07T16:59:14.499396",
     "status": "completed"
    },
    "tags": []
   },
   "outputs": [
    {
     "data": {
      "text/html": [
       "<div>\n",
       "<style scoped>\n",
       "    .dataframe tbody tr th:only-of-type {\n",
       "        vertical-align: middle;\n",
       "    }\n",
       "\n",
       "    .dataframe tbody tr th {\n",
       "        vertical-align: top;\n",
       "    }\n",
       "\n",
       "    .dataframe thead th {\n",
       "        text-align: right;\n",
       "    }\n",
       "</style>\n",
       "<table border=\"1\" class=\"dataframe\">\n",
       "  <thead>\n",
       "    <tr style=\"text-align: right;\">\n",
       "      <th></th>\n",
       "      <th>MSSubClass</th>\n",
       "      <th>LotFrontage</th>\n",
       "      <th>LotArea</th>\n",
       "      <th>OverallQual</th>\n",
       "      <th>OverallCond</th>\n",
       "      <th>YearBuilt</th>\n",
       "      <th>YearRemodAdd</th>\n",
       "      <th>MasVnrArea</th>\n",
       "      <th>BsmtFinSF1</th>\n",
       "      <th>BsmtFinSF2</th>\n",
       "      <th>...</th>\n",
       "      <th>GarageArea</th>\n",
       "      <th>WoodDeckSF</th>\n",
       "      <th>OpenPorchSF</th>\n",
       "      <th>EnclosedPorch</th>\n",
       "      <th>3SsnPorch</th>\n",
       "      <th>ScreenPorch</th>\n",
       "      <th>PoolArea</th>\n",
       "      <th>MiscVal</th>\n",
       "      <th>MoSold</th>\n",
       "      <th>YrSold</th>\n",
       "    </tr>\n",
       "    <tr>\n",
       "      <th>Id</th>\n",
       "      <th></th>\n",
       "      <th></th>\n",
       "      <th></th>\n",
       "      <th></th>\n",
       "      <th></th>\n",
       "      <th></th>\n",
       "      <th></th>\n",
       "      <th></th>\n",
       "      <th></th>\n",
       "      <th></th>\n",
       "      <th></th>\n",
       "      <th></th>\n",
       "      <th></th>\n",
       "      <th></th>\n",
       "      <th></th>\n",
       "      <th></th>\n",
       "      <th></th>\n",
       "      <th></th>\n",
       "      <th></th>\n",
       "      <th></th>\n",
       "      <th></th>\n",
       "    </tr>\n",
       "  </thead>\n",
       "  <tbody>\n",
       "    <tr>\n",
       "      <th>619</th>\n",
       "      <td>20</td>\n",
       "      <td>90.0</td>\n",
       "      <td>11694</td>\n",
       "      <td>9</td>\n",
       "      <td>5</td>\n",
       "      <td>2007</td>\n",
       "      <td>2007</td>\n",
       "      <td>452.0</td>\n",
       "      <td>48</td>\n",
       "      <td>0</td>\n",
       "      <td>...</td>\n",
       "      <td>774</td>\n",
       "      <td>0</td>\n",
       "      <td>108</td>\n",
       "      <td>0</td>\n",
       "      <td>0</td>\n",
       "      <td>260</td>\n",
       "      <td>0</td>\n",
       "      <td>0</td>\n",
       "      <td>7</td>\n",
       "      <td>2007</td>\n",
       "    </tr>\n",
       "    <tr>\n",
       "      <th>871</th>\n",
       "      <td>20</td>\n",
       "      <td>60.0</td>\n",
       "      <td>6600</td>\n",
       "      <td>5</td>\n",
       "      <td>5</td>\n",
       "      <td>1962</td>\n",
       "      <td>1962</td>\n",
       "      <td>0.0</td>\n",
       "      <td>0</td>\n",
       "      <td>0</td>\n",
       "      <td>...</td>\n",
       "      <td>308</td>\n",
       "      <td>0</td>\n",
       "      <td>0</td>\n",
       "      <td>0</td>\n",
       "      <td>0</td>\n",
       "      <td>0</td>\n",
       "      <td>0</td>\n",
       "      <td>0</td>\n",
       "      <td>8</td>\n",
       "      <td>2009</td>\n",
       "    </tr>\n",
       "    <tr>\n",
       "      <th>93</th>\n",
       "      <td>30</td>\n",
       "      <td>80.0</td>\n",
       "      <td>13360</td>\n",
       "      <td>5</td>\n",
       "      <td>7</td>\n",
       "      <td>1921</td>\n",
       "      <td>2006</td>\n",
       "      <td>0.0</td>\n",
       "      <td>713</td>\n",
       "      <td>0</td>\n",
       "      <td>...</td>\n",
       "      <td>432</td>\n",
       "      <td>0</td>\n",
       "      <td>0</td>\n",
       "      <td>44</td>\n",
       "      <td>0</td>\n",
       "      <td>0</td>\n",
       "      <td>0</td>\n",
       "      <td>0</td>\n",
       "      <td>8</td>\n",
       "      <td>2009</td>\n",
       "    </tr>\n",
       "    <tr>\n",
       "      <th>818</th>\n",
       "      <td>20</td>\n",
       "      <td>NaN</td>\n",
       "      <td>13265</td>\n",
       "      <td>8</td>\n",
       "      <td>5</td>\n",
       "      <td>2002</td>\n",
       "      <td>2002</td>\n",
       "      <td>148.0</td>\n",
       "      <td>1218</td>\n",
       "      <td>0</td>\n",
       "      <td>...</td>\n",
       "      <td>857</td>\n",
       "      <td>150</td>\n",
       "      <td>59</td>\n",
       "      <td>0</td>\n",
       "      <td>0</td>\n",
       "      <td>0</td>\n",
       "      <td>0</td>\n",
       "      <td>0</td>\n",
       "      <td>7</td>\n",
       "      <td>2008</td>\n",
       "    </tr>\n",
       "    <tr>\n",
       "      <th>303</th>\n",
       "      <td>20</td>\n",
       "      <td>118.0</td>\n",
       "      <td>13704</td>\n",
       "      <td>7</td>\n",
       "      <td>5</td>\n",
       "      <td>2001</td>\n",
       "      <td>2002</td>\n",
       "      <td>150.0</td>\n",
       "      <td>0</td>\n",
       "      <td>0</td>\n",
       "      <td>...</td>\n",
       "      <td>843</td>\n",
       "      <td>468</td>\n",
       "      <td>81</td>\n",
       "      <td>0</td>\n",
       "      <td>0</td>\n",
       "      <td>0</td>\n",
       "      <td>0</td>\n",
       "      <td>0</td>\n",
       "      <td>1</td>\n",
       "      <td>2006</td>\n",
       "    </tr>\n",
       "  </tbody>\n",
       "</table>\n",
       "<p>5 rows × 36 columns</p>\n",
       "</div>"
      ],
      "text/plain": [
       "     MSSubClass  LotFrontage  LotArea  OverallQual  OverallCond  YearBuilt  \\\n",
       "Id                                                                           \n",
       "619          20         90.0    11694            9            5       2007   \n",
       "871          20         60.0     6600            5            5       1962   \n",
       "93           30         80.0    13360            5            7       1921   \n",
       "818          20          NaN    13265            8            5       2002   \n",
       "303          20        118.0    13704            7            5       2001   \n",
       "\n",
       "     YearRemodAdd  MasVnrArea  BsmtFinSF1  BsmtFinSF2  ...  GarageArea  \\\n",
       "Id                                                     ...               \n",
       "619          2007       452.0          48           0  ...         774   \n",
       "871          1962         0.0           0           0  ...         308   \n",
       "93           2006         0.0         713           0  ...         432   \n",
       "818          2002       148.0        1218           0  ...         857   \n",
       "303          2002       150.0           0           0  ...         843   \n",
       "\n",
       "     WoodDeckSF  OpenPorchSF  EnclosedPorch  3SsnPorch  ScreenPorch  PoolArea  \\\n",
       "Id                                                                              \n",
       "619           0          108              0          0          260         0   \n",
       "871           0            0              0          0            0         0   \n",
       "93            0            0             44          0            0         0   \n",
       "818         150           59              0          0            0         0   \n",
       "303         468           81              0          0            0         0   \n",
       "\n",
       "     MiscVal  MoSold  YrSold  \n",
       "Id                            \n",
       "619        0       7    2007  \n",
       "871        0       8    2009  \n",
       "93         0       8    2009  \n",
       "818        0       7    2008  \n",
       "303        0       1    2006  \n",
       "\n",
       "[5 rows x 36 columns]"
      ]
     },
     "execution_count": 3,
     "metadata": {},
     "output_type": "execute_result"
    }
   ],
   "source": [
    "X_train.head()"
   ]
  },
  {
   "cell_type": "markdown",
   "id": "05fb6db5",
   "metadata": {
    "papermill": {
     "duration": 0.034624,
     "end_time": "2022-04-07T16:59:14.632794",
     "exception": false,
     "start_time": "2022-04-07T16:59:14.598170",
     "status": "completed"
    },
    "tags": []
   },
   "source": [
    "You can already see a few missing values in the first several rows.  In the next step, you'll obtain a more comprehensive understanding of the missing values in the dataset.\n",
    "\n",
    "# Step 1: Preliminary investigation\n",
    "\n",
    "Run the code cell below without changes."
   ]
  },
  {
   "cell_type": "code",
   "execution_count": 4,
   "id": "c21fca86",
   "metadata": {
    "execution": {
     "iopub.execute_input": "2022-04-07T16:59:14.708288Z",
     "iopub.status.busy": "2022-04-07T16:59:14.707284Z",
     "iopub.status.idle": "2022-04-07T16:59:14.715747Z",
     "shell.execute_reply": "2022-04-07T16:59:14.716442Z",
     "shell.execute_reply.started": "2022-04-07T16:33:51.225681Z"
    },
    "papermill": {
     "duration": 0.04896,
     "end_time": "2022-04-07T16:59:14.716683",
     "exception": false,
     "start_time": "2022-04-07T16:59:14.667723",
     "status": "completed"
    },
    "tags": []
   },
   "outputs": [
    {
     "name": "stdout",
     "output_type": "stream",
     "text": [
      "(1168, 36)\n",
      "LotFrontage    212\n",
      "MasVnrArea       6\n",
      "GarageYrBlt     58\n",
      "dtype: int64\n"
     ]
    }
   ],
   "source": [
    "# Shape of training data (num_rows, num_columns)\n",
    "print(X_train.shape)\n",
    "\n",
    "# Number of missing values in each column of training data\n",
    "missing_val_count_by_column = (X_train.isnull().sum())\n",
    "print(missing_val_count_by_column[missing_val_count_by_column > 0])"
   ]
  },
  {
   "cell_type": "markdown",
   "id": "3e5c29d5",
   "metadata": {
    "papermill": {
     "duration": 0.03519,
     "end_time": "2022-04-07T16:59:14.788475",
     "exception": false,
     "start_time": "2022-04-07T16:59:14.753285",
     "status": "completed"
    },
    "tags": []
   },
   "source": [
    "### Part A\n",
    "\n",
    "Use the above output to answer the questions below."
   ]
  },
  {
   "cell_type": "code",
   "execution_count": 5,
   "id": "80e3ea3f",
   "metadata": {
    "execution": {
     "iopub.execute_input": "2022-04-07T16:59:14.865707Z",
     "iopub.status.busy": "2022-04-07T16:59:14.864653Z",
     "iopub.status.idle": "2022-04-07T16:59:14.870512Z",
     "shell.execute_reply": "2022-04-07T16:59:14.871009Z",
     "shell.execute_reply.started": "2022-04-07T16:35:58.858123Z"
    },
    "papermill": {
     "duration": 0.04728,
     "end_time": "2022-04-07T16:59:14.871176",
     "exception": false,
     "start_time": "2022-04-07T16:59:14.823896",
     "status": "completed"
    },
    "tags": []
   },
   "outputs": [
    {
     "data": {
      "application/javascript": [
       "parent.postMessage({\"jupyterEvent\": \"custom.exercise_interaction\", \"data\": {\"outcomeType\": 1, \"valueTowardsCompletion\": 1.0, \"interactionType\": 1, \"questionType\": 1, \"questionId\": \"1.1_InvestigateEquality\", \"learnToolsVersion\": \"0.3.4\", \"failureMessage\": \"\", \"exceptionClass\": \"\", \"trace\": \"\"}}, \"*\")"
      ],
      "text/plain": [
       "<IPython.core.display.Javascript object>"
      ]
     },
     "metadata": {},
     "output_type": "display_data"
    },
    {
     "data": {
      "text/markdown": [
       "<span style=\"color:#33cc33\">Correct</span>"
      ],
      "text/plain": [
       "Correct"
      ]
     },
     "metadata": {},
     "output_type": "display_data"
    }
   ],
   "source": [
    "# Fill in the line below: How many rows are in the training data?\n",
    "num_rows = 1168\n",
    "\n",
    "# Fill in the line below: How many columns in the training data\n",
    "# have missing values?\n",
    "num_cols_with_missing = 3\n",
    "\n",
    "# Fill in the line below: How many missing entries are contained in \n",
    "# all of the training data?\n",
    "tot_missing = 212+6+58\n",
    "\n",
    "# Check your answers\n",
    "step_1.a.check()"
   ]
  },
  {
   "cell_type": "code",
   "execution_count": 6,
   "id": "61dca1f9",
   "metadata": {
    "execution": {
     "iopub.execute_input": "2022-04-07T16:59:14.949225Z",
     "iopub.status.busy": "2022-04-07T16:59:14.948340Z",
     "iopub.status.idle": "2022-04-07T16:59:14.951214Z",
     "shell.execute_reply": "2022-04-07T16:59:14.951769Z"
    },
    "papermill": {
     "duration": 0.043547,
     "end_time": "2022-04-07T16:59:14.951958",
     "exception": false,
     "start_time": "2022-04-07T16:59:14.908411",
     "status": "completed"
    },
    "tags": []
   },
   "outputs": [],
   "source": [
    "# Lines below will give you a hint or solution code\n",
    "#step_1.a.hint()\n",
    "#step_1.a.solution()"
   ]
  },
  {
   "cell_type": "markdown",
   "id": "d611a1ca",
   "metadata": {
    "papermill": {
     "duration": 0.03618,
     "end_time": "2022-04-07T16:59:15.024688",
     "exception": false,
     "start_time": "2022-04-07T16:59:14.988508",
     "status": "completed"
    },
    "tags": []
   },
   "source": [
    "### Part B\n",
    "Considering your answers above, what do you think is likely the best approach to dealing with the missing values?"
   ]
  },
  {
   "cell_type": "code",
   "execution_count": 7,
   "id": "3a3df0c2",
   "metadata": {
    "execution": {
     "iopub.execute_input": "2022-04-07T16:59:15.101722Z",
     "iopub.status.busy": "2022-04-07T16:59:15.100750Z",
     "iopub.status.idle": "2022-04-07T16:59:15.108966Z",
     "shell.execute_reply": "2022-04-07T16:59:15.109440Z",
     "shell.execute_reply.started": "2022-04-07T16:36:22.640685Z"
    },
    "papermill": {
     "duration": 0.048299,
     "end_time": "2022-04-07T16:59:15.109601",
     "exception": false,
     "start_time": "2022-04-07T16:59:15.061302",
     "status": "completed"
    },
    "tags": []
   },
   "outputs": [
    {
     "data": {
      "application/javascript": [
       "parent.postMessage({\"jupyterEvent\": \"custom.exercise_interaction\", \"data\": {\"outcomeType\": 1, \"valueTowardsCompletion\": 1.0, \"interactionType\": 1, \"questionType\": 4, \"questionId\": \"1.2_InvestigateThought\", \"learnToolsVersion\": \"0.3.4\", \"failureMessage\": \"\", \"exceptionClass\": \"\", \"trace\": \"\"}}, \"*\")"
      ],
      "text/plain": [
       "<IPython.core.display.Javascript object>"
      ]
     },
     "metadata": {},
     "output_type": "display_data"
    },
    {
     "data": {
      "text/markdown": [
       "<span style=\"color:#33cc33\">Correct:</span> \n",
       "\n",
       "Since there are relatively few missing entries in the data (the column with the greatest percentage of missing values is missing less than 20% of its entries), we can expect that dropping columns is unlikely to yield good results.  This is because we'd be throwing away a lot of valuable data, and so imputation will likely perform better."
      ],
      "text/plain": [
       "Correct: \n",
       "\n",
       "Since there are relatively few missing entries in the data (the column with the greatest percentage of missing values is missing less than 20% of its entries), we can expect that dropping columns is unlikely to yield good results.  This is because we'd be throwing away a lot of valuable data, and so imputation will likely perform better."
      ]
     },
     "metadata": {},
     "output_type": "display_data"
    }
   ],
   "source": [
    "# Check your answer (Run this code cell to receive credit!)\n",
    "step_1.b.check()"
   ]
  },
  {
   "cell_type": "code",
   "execution_count": 8,
   "id": "4c079a2b",
   "metadata": {
    "execution": {
     "iopub.execute_input": "2022-04-07T16:59:15.191051Z",
     "iopub.status.busy": "2022-04-07T16:59:15.190248Z",
     "iopub.status.idle": "2022-04-07T16:59:15.193104Z",
     "shell.execute_reply": "2022-04-07T16:59:15.192560Z"
    },
    "papermill": {
     "duration": 0.044855,
     "end_time": "2022-04-07T16:59:15.193250",
     "exception": false,
     "start_time": "2022-04-07T16:59:15.148395",
     "status": "completed"
    },
    "tags": []
   },
   "outputs": [],
   "source": [
    "#step_1.b.hint()"
   ]
  },
  {
   "cell_type": "markdown",
   "id": "868cb7b2",
   "metadata": {
    "papermill": {
     "duration": 0.037851,
     "end_time": "2022-04-07T16:59:15.269327",
     "exception": false,
     "start_time": "2022-04-07T16:59:15.231476",
     "status": "completed"
    },
    "tags": []
   },
   "source": [
    "To compare different approaches to dealing with missing values, you'll use the same `score_dataset()` function from the tutorial.  This function reports the [mean absolute error](https://en.wikipedia.org/wiki/Mean_absolute_error) (MAE) from a random forest model."
   ]
  },
  {
   "cell_type": "code",
   "execution_count": 9,
   "id": "bb54f587",
   "metadata": {
    "execution": {
     "iopub.execute_input": "2022-04-07T16:59:15.351649Z",
     "iopub.status.busy": "2022-04-07T16:59:15.350945Z",
     "iopub.status.idle": "2022-04-07T16:59:15.555777Z",
     "shell.execute_reply": "2022-04-07T16:59:15.555224Z",
     "shell.execute_reply.started": "2022-04-07T16:37:36.594698Z"
    },
    "papermill": {
     "duration": 0.248597,
     "end_time": "2022-04-07T16:59:15.555962",
     "exception": false,
     "start_time": "2022-04-07T16:59:15.307365",
     "status": "completed"
    },
    "tags": []
   },
   "outputs": [],
   "source": [
    "from sklearn.ensemble import RandomForestRegressor\n",
    "from sklearn.metrics import mean_absolute_error\n",
    "\n",
    "# Function for comparing different approaches\n",
    "def score_dataset(X_train, X_valid, y_train, y_valid):\n",
    "    model = RandomForestRegressor(n_estimators=100, random_state=0)\n",
    "    model.fit(X_train, y_train)\n",
    "    preds = model.predict(X_valid)\n",
    "    return mean_absolute_error(y_valid, preds)"
   ]
  },
  {
   "cell_type": "markdown",
   "id": "ee46862c",
   "metadata": {
    "papermill": {
     "duration": 0.037797,
     "end_time": "2022-04-07T16:59:15.632672",
     "exception": false,
     "start_time": "2022-04-07T16:59:15.594875",
     "status": "completed"
    },
    "tags": []
   },
   "source": [
    "# Step 2: Drop columns with missing values\n",
    "\n",
    "In this step, you'll preprocess the data in `X_train` and `X_valid` to remove columns with missing values.  Set the preprocessed DataFrames to `reduced_X_train` and `reduced_X_valid`, respectively.  "
   ]
  },
  {
   "cell_type": "code",
   "execution_count": 10,
   "id": "109fb4ba",
   "metadata": {
    "execution": {
     "iopub.execute_input": "2022-04-07T16:59:15.713784Z",
     "iopub.status.busy": "2022-04-07T16:59:15.713141Z",
     "iopub.status.idle": "2022-04-07T16:59:15.739813Z",
     "shell.execute_reply": "2022-04-07T16:59:15.740313Z",
     "shell.execute_reply.started": "2022-04-07T16:38:58.678608Z"
    },
    "papermill": {
     "duration": 0.06952,
     "end_time": "2022-04-07T16:59:15.740498",
     "exception": false,
     "start_time": "2022-04-07T16:59:15.670978",
     "status": "completed"
    },
    "tags": []
   },
   "outputs": [
    {
     "data": {
      "application/javascript": [
       "parent.postMessage({\"jupyterEvent\": \"custom.exercise_interaction\", \"data\": {\"outcomeType\": 1, \"valueTowardsCompletion\": 1.0, \"interactionType\": 1, \"questionType\": 2, \"questionId\": \"2_DropMissing\", \"learnToolsVersion\": \"0.3.4\", \"failureMessage\": \"\", \"exceptionClass\": \"\", \"trace\": \"\"}}, \"*\")"
      ],
      "text/plain": [
       "<IPython.core.display.Javascript object>"
      ]
     },
     "metadata": {},
     "output_type": "display_data"
    },
    {
     "data": {
      "text/markdown": [
       "<span style=\"color:#33cc33\">Correct</span>"
      ],
      "text/plain": [
       "Correct"
      ]
     },
     "metadata": {},
     "output_type": "display_data"
    }
   ],
   "source": [
    "# Fill in the line below: get names of columns with missing values\n",
    "cols_with_missing = [col for col in X_train.columns\n",
    "                     if X_train[col].isnull().any()] # Your code here\n",
    "\n",
    "# Fill in the lines below: drop columns in training and validation data\n",
    "reduced_X_train = X_train.drop(cols_with_missing, axis=1)\n",
    "reduced_X_valid = X_valid.drop(cols_with_missing, axis=1)\n",
    "\n",
    "# Check your answers\n",
    "step_2.check()"
   ]
  },
  {
   "cell_type": "code",
   "execution_count": 11,
   "id": "0ddb9b32",
   "metadata": {
    "execution": {
     "iopub.execute_input": "2022-04-07T16:59:15.822345Z",
     "iopub.status.busy": "2022-04-07T16:59:15.821730Z",
     "iopub.status.idle": "2022-04-07T16:59:15.824424Z",
     "shell.execute_reply": "2022-04-07T16:59:15.824960Z",
     "shell.execute_reply.started": "2022-04-07T16:39:00.490319Z"
    },
    "papermill": {
     "duration": 0.045153,
     "end_time": "2022-04-07T16:59:15.825122",
     "exception": false,
     "start_time": "2022-04-07T16:59:15.779969",
     "status": "completed"
    },
    "tags": []
   },
   "outputs": [],
   "source": [
    "# Lines below will give you a hint or solution code\n",
    "#step_2.hint()\n",
    "# step_2.solution()"
   ]
  },
  {
   "cell_type": "markdown",
   "id": "ccef4659",
   "metadata": {
    "papermill": {
     "duration": 0.039627,
     "end_time": "2022-04-07T16:59:15.904014",
     "exception": false,
     "start_time": "2022-04-07T16:59:15.864387",
     "status": "completed"
    },
    "tags": []
   },
   "source": [
    "Run the next code cell without changes to obtain the MAE for this approach."
   ]
  },
  {
   "cell_type": "code",
   "execution_count": 12,
   "id": "dcf87280",
   "metadata": {
    "execution": {
     "iopub.execute_input": "2022-04-07T16:59:15.986196Z",
     "iopub.status.busy": "2022-04-07T16:59:15.985527Z",
     "iopub.status.idle": "2022-04-07T16:59:17.082164Z",
     "shell.execute_reply": "2022-04-07T16:59:17.082614Z",
     "shell.execute_reply.started": "2022-04-07T16:39:33.252267Z"
    },
    "papermill": {
     "duration": 1.139114,
     "end_time": "2022-04-07T16:59:17.082799",
     "exception": false,
     "start_time": "2022-04-07T16:59:15.943685",
     "status": "completed"
    },
    "tags": []
   },
   "outputs": [
    {
     "name": "stdout",
     "output_type": "stream",
     "text": [
      "MAE (Drop columns with missing values):\n",
      "17837.82570776256\n"
     ]
    }
   ],
   "source": [
    "print(\"MAE (Drop columns with missing values):\")\n",
    "print(score_dataset(reduced_X_train, reduced_X_valid, y_train, y_valid))"
   ]
  },
  {
   "cell_type": "markdown",
   "id": "1d62fc0f",
   "metadata": {
    "papermill": {
     "duration": 0.040014,
     "end_time": "2022-04-07T16:59:17.163291",
     "exception": false,
     "start_time": "2022-04-07T16:59:17.123277",
     "status": "completed"
    },
    "tags": []
   },
   "source": [
    "# Step 3: Imputation\n",
    "\n",
    "### Part A\n",
    "\n",
    "Use the next code cell to impute missing values with the mean value along each column.  Set the preprocessed DataFrames to `imputed_X_train` and `imputed_X_valid`.  Make sure that the column names match those in `X_train` and `X_valid`."
   ]
  },
  {
   "cell_type": "code",
   "execution_count": 13,
   "id": "1cbdfaa9",
   "metadata": {
    "execution": {
     "iopub.execute_input": "2022-04-07T16:59:17.251535Z",
     "iopub.status.busy": "2022-04-07T16:59:17.250631Z",
     "iopub.status.idle": "2022-04-07T16:59:17.280633Z",
     "shell.execute_reply": "2022-04-07T16:59:17.281202Z",
     "shell.execute_reply.started": "2022-04-07T16:41:04.168822Z"
    },
    "papermill": {
     "duration": 0.076973,
     "end_time": "2022-04-07T16:59:17.281371",
     "exception": false,
     "start_time": "2022-04-07T16:59:17.204398",
     "status": "completed"
    },
    "tags": []
   },
   "outputs": [
    {
     "data": {
      "application/javascript": [
       "parent.postMessage({\"jupyterEvent\": \"custom.exercise_interaction\", \"data\": {\"outcomeType\": 1, \"valueTowardsCompletion\": 1.0, \"interactionType\": 1, \"questionType\": 2, \"questionId\": \"3.1_ImputeCode\", \"learnToolsVersion\": \"0.3.4\", \"failureMessage\": \"\", \"exceptionClass\": \"\", \"trace\": \"\"}}, \"*\")"
      ],
      "text/plain": [
       "<IPython.core.display.Javascript object>"
      ]
     },
     "metadata": {},
     "output_type": "display_data"
    },
    {
     "data": {
      "text/markdown": [
       "<span style=\"color:#33cc33\">Correct</span>"
      ],
      "text/plain": [
       "Correct"
      ]
     },
     "metadata": {},
     "output_type": "display_data"
    }
   ],
   "source": [
    "from sklearn.impute import SimpleImputer\n",
    "\n",
    "# Fill in the lines below: imputation\n",
    "my_imputer = SimpleImputer() # Your code here\n",
    "imputed_X_train = pd.DataFrame(my_imputer.fit_transform(X_train))\n",
    "imputed_X_valid = pd.DataFrame(my_imputer.transform(X_valid))\n",
    "\n",
    "# Fill in the lines below: imputation removed column names; put them back\n",
    "imputed_X_train.columns = X_train.columns\n",
    "imputed_X_valid.columns = X_valid.columns\n",
    "\n",
    "# Check your answers\n",
    "step_3.a.check()"
   ]
  },
  {
   "cell_type": "code",
   "execution_count": 14,
   "id": "0d4caed7",
   "metadata": {
    "execution": {
     "iopub.execute_input": "2022-04-07T16:59:17.367728Z",
     "iopub.status.busy": "2022-04-07T16:59:17.366756Z",
     "iopub.status.idle": "2022-04-07T16:59:17.369937Z",
     "shell.execute_reply": "2022-04-07T16:59:17.370420Z"
    },
    "papermill": {
     "duration": 0.047834,
     "end_time": "2022-04-07T16:59:17.370595",
     "exception": false,
     "start_time": "2022-04-07T16:59:17.322761",
     "status": "completed"
    },
    "tags": []
   },
   "outputs": [],
   "source": [
    "# Lines below will give you a hint or solution code\n",
    "#step_3.a.hint()\n",
    "#step_3.a.solution()"
   ]
  },
  {
   "cell_type": "markdown",
   "id": "89110ec8",
   "metadata": {
    "papermill": {
     "duration": 0.041774,
     "end_time": "2022-04-07T16:59:17.453523",
     "exception": false,
     "start_time": "2022-04-07T16:59:17.411749",
     "status": "completed"
    },
    "tags": []
   },
   "source": [
    "Run the next code cell without changes to obtain the MAE for this approach."
   ]
  },
  {
   "cell_type": "code",
   "execution_count": 15,
   "id": "a21fbafd",
   "metadata": {
    "execution": {
     "iopub.execute_input": "2022-04-07T16:59:17.540885Z",
     "iopub.status.busy": "2022-04-07T16:59:17.539933Z",
     "iopub.status.idle": "2022-04-07T16:59:18.746172Z",
     "shell.execute_reply": "2022-04-07T16:59:18.746842Z",
     "shell.execute_reply.started": "2022-04-07T16:45:16.555603Z"
    },
    "papermill": {
     "duration": 1.251764,
     "end_time": "2022-04-07T16:59:18.747051",
     "exception": false,
     "start_time": "2022-04-07T16:59:17.495287",
     "status": "completed"
    },
    "tags": []
   },
   "outputs": [
    {
     "name": "stdout",
     "output_type": "stream",
     "text": [
      "MAE (Imputation):\n",
      "18062.894611872147\n"
     ]
    }
   ],
   "source": [
    "print(\"MAE (Imputation):\")\n",
    "print(score_dataset(imputed_X_train, imputed_X_valid, y_train, y_valid))"
   ]
  },
  {
   "cell_type": "markdown",
   "id": "d933cfcc",
   "metadata": {
    "papermill": {
     "duration": 0.043384,
     "end_time": "2022-04-07T16:59:18.832749",
     "exception": false,
     "start_time": "2022-04-07T16:59:18.789365",
     "status": "completed"
    },
    "tags": []
   },
   "source": [
    "### Part B\n",
    "\n",
    "Compare the MAE from each approach.  Does anything surprise you about the results?  Why do you think one approach performed better than the other?"
   ]
  },
  {
   "cell_type": "code",
   "execution_count": 16,
   "id": "6ec12239",
   "metadata": {
    "execution": {
     "iopub.execute_input": "2022-04-07T16:59:18.921635Z",
     "iopub.status.busy": "2022-04-07T16:59:18.920638Z",
     "iopub.status.idle": "2022-04-07T16:59:18.928859Z",
     "shell.execute_reply": "2022-04-07T16:59:18.928233Z",
     "shell.execute_reply.started": "2022-04-07T16:45:37.060204Z"
    },
    "papermill": {
     "duration": 0.054005,
     "end_time": "2022-04-07T16:59:18.929016",
     "exception": false,
     "start_time": "2022-04-07T16:59:18.875011",
     "status": "completed"
    },
    "tags": []
   },
   "outputs": [
    {
     "data": {
      "application/javascript": [
       "parent.postMessage({\"jupyterEvent\": \"custom.exercise_interaction\", \"data\": {\"outcomeType\": 1, \"valueTowardsCompletion\": 1.0, \"interactionType\": 1, \"questionType\": 4, \"questionId\": \"3.2_ImputeThought\", \"learnToolsVersion\": \"0.3.4\", \"failureMessage\": \"\", \"exceptionClass\": \"\", \"trace\": \"\"}}, \"*\")"
      ],
      "text/plain": [
       "<IPython.core.display.Javascript object>"
      ]
     },
     "metadata": {},
     "output_type": "display_data"
    },
    {
     "data": {
      "text/markdown": [
       "<span style=\"color:#33cc33\">Correct:</span> \n",
       "\n",
       "Given that thre are so few missing values in the dataset, we'd expect imputation to perform better than dropping columns entirely.  However, we see that dropping columns performs slightly better!  While this can probably partially be attributed to noise in the dataset, another potential explanation is that the imputation method is not a great match to this dataset.  That is, maybe instead of filling in the mean value, it makes more sense to set every missing value to a value of 0, to fill in the most frequently encountered value, or to use some other method.  For instance, consider the `GarageYrBlt` column (which indicates the year that the garage was built).  It's likely that in some cases, a missing value could indicate a house that does not have a garage.  Does it make more sense to fill in the median value along each column in this case?  Or could we get better results by filling in the minimum value along each column?  It's not quite clear what's best in this case, but perhaps we can rule out some options immediately - for instance, setting missing values in this column to 0 is likely to yield horrible results!"
      ],
      "text/plain": [
       "Correct: \n",
       "\n",
       "Given that thre are so few missing values in the dataset, we'd expect imputation to perform better than dropping columns entirely.  However, we see that dropping columns performs slightly better!  While this can probably partially be attributed to noise in the dataset, another potential explanation is that the imputation method is not a great match to this dataset.  That is, maybe instead of filling in the mean value, it makes more sense to set every missing value to a value of 0, to fill in the most frequently encountered value, or to use some other method.  For instance, consider the `GarageYrBlt` column (which indicates the year that the garage was built).  It's likely that in some cases, a missing value could indicate a house that does not have a garage.  Does it make more sense to fill in the median value along each column in this case?  Or could we get better results by filling in the minimum value along each column?  It's not quite clear what's best in this case, but perhaps we can rule out some options immediately - for instance, setting missing values in this column to 0 is likely to yield horrible results!"
      ]
     },
     "metadata": {},
     "output_type": "display_data"
    }
   ],
   "source": [
    "# Check your answer (Run this code cell to receive credit!)\n",
    "step_3.b.check()"
   ]
  },
  {
   "cell_type": "code",
   "execution_count": 17,
   "id": "b5826d57",
   "metadata": {
    "execution": {
     "iopub.execute_input": "2022-04-07T16:59:19.020265Z",
     "iopub.status.busy": "2022-04-07T16:59:19.019075Z",
     "iopub.status.idle": "2022-04-07T16:59:19.022371Z",
     "shell.execute_reply": "2022-04-07T16:59:19.022885Z",
     "shell.execute_reply.started": "2022-04-07T16:47:32.683245Z"
    },
    "papermill": {
     "duration": 0.04991,
     "end_time": "2022-04-07T16:59:19.023070",
     "exception": false,
     "start_time": "2022-04-07T16:59:18.973160",
     "status": "completed"
    },
    "tags": []
   },
   "outputs": [],
   "source": [
    "# step_3.b.hint()"
   ]
  },
  {
   "cell_type": "markdown",
   "id": "5f8a7f5e",
   "metadata": {
    "papermill": {
     "duration": 0.043114,
     "end_time": "2022-04-07T16:59:19.110582",
     "exception": false,
     "start_time": "2022-04-07T16:59:19.067468",
     "status": "completed"
    },
    "tags": []
   },
   "source": [
    "# Step 4: Generate test predictions\n",
    "\n",
    "In this final step, you'll use any approach of your choosing to deal with missing values.  Once you've preprocessed the training and validation features, you'll train and evaluate a random forest model.  Then, you'll preprocess the test data before generating predictions that can be submitted to the competition!\n",
    "\n",
    "### Part A\n",
    "\n",
    "Use the next code cell to preprocess the training and validation data.  Set the preprocessed DataFrames to `final_X_train` and `final_X_valid`.  **You can use any approach of your choosing here!**  in order for this step to be marked as correct, you need only ensure:\n",
    "- the preprocessed DataFrames have the same number of columns,\n",
    "- the preprocessed DataFrames have no missing values, \n",
    "- `final_X_train` and `y_train` have the same number of rows, and\n",
    "- `final_X_valid` and `y_valid` have the same number of rows."
   ]
  },
  {
   "cell_type": "code",
   "execution_count": 18,
   "id": "acfe228a",
   "metadata": {
    "execution": {
     "iopub.execute_input": "2022-04-07T16:59:19.200776Z",
     "iopub.status.busy": "2022-04-07T16:59:19.200170Z",
     "iopub.status.idle": "2022-04-07T16:59:19.228452Z",
     "shell.execute_reply": "2022-04-07T16:59:19.228967Z",
     "shell.execute_reply.started": "2022-04-07T16:54:51.058663Z"
    },
    "papermill": {
     "duration": 0.075033,
     "end_time": "2022-04-07T16:59:19.229138",
     "exception": false,
     "start_time": "2022-04-07T16:59:19.154105",
     "status": "completed"
    },
    "tags": []
   },
   "outputs": [
    {
     "data": {
      "application/javascript": [
       "parent.postMessage({\"jupyterEvent\": \"custom.exercise_interaction\", \"data\": {\"outcomeType\": 1, \"valueTowardsCompletion\": 1.0, \"interactionType\": 1, \"questionType\": 2, \"questionId\": \"4.1_PredsCodeA\", \"learnToolsVersion\": \"0.3.4\", \"failureMessage\": \"\", \"exceptionClass\": \"\", \"trace\": \"\"}}, \"*\")"
      ],
      "text/plain": [
       "<IPython.core.display.Javascript object>"
      ]
     },
     "metadata": {},
     "output_type": "display_data"
    },
    {
     "data": {
      "text/markdown": [
       "<span style=\"color:#33cc33\">Correct</span>"
      ],
      "text/plain": [
       "Correct"
      ]
     },
     "metadata": {},
     "output_type": "display_data"
    }
   ],
   "source": [
    "# Preprocessed training and validation features\n",
    "final_imputer = SimpleImputer(strategy = 'median')\n",
    "final_X_train = pd.DataFrame(final_imputer.fit_transform(X_train))\n",
    "final_X_valid = pd.DataFrame(final_imputer.transform(X_valid))\n",
    "\n",
    "# Imputation removed column names; put them back\n",
    "final_X_train.columns = X_train.columns\n",
    "final_X_valid.columns = X_valid.columns\n",
    "\n",
    "# Check your answers\n",
    "step_4.a.check()"
   ]
  },
  {
   "cell_type": "code",
   "execution_count": 19,
   "id": "d689c6b5",
   "metadata": {
    "execution": {
     "iopub.execute_input": "2022-04-07T16:59:19.322086Z",
     "iopub.status.busy": "2022-04-07T16:59:19.321380Z",
     "iopub.status.idle": "2022-04-07T16:59:19.326662Z",
     "shell.execute_reply": "2022-04-07T16:59:19.327241Z",
     "shell.execute_reply.started": "2022-04-07T16:52:51.020671Z"
    },
    "papermill": {
     "duration": 0.053256,
     "end_time": "2022-04-07T16:59:19.327406",
     "exception": false,
     "start_time": "2022-04-07T16:59:19.274150",
     "status": "completed"
    },
    "tags": []
   },
   "outputs": [
    {
     "data": {
      "application/javascript": [
       "parent.postMessage({\"jupyterEvent\": \"custom.exercise_interaction\", \"data\": {\"interactionType\": 3, \"questionType\": 2, \"questionId\": \"4.1_PredsCodeA\", \"learnToolsVersion\": \"0.3.4\", \"valueTowardsCompletion\": 0.0, \"failureMessage\": \"\", \"exceptionClass\": \"\", \"trace\": \"\", \"outcomeType\": 4}}, \"*\")"
      ],
      "text/plain": [
       "<IPython.core.display.Javascript object>"
      ]
     },
     "metadata": {},
     "output_type": "display_data"
    },
    {
     "data": {
      "text/markdown": [
       "<span style=\"color:#33cc99\">Solution:</span> \n",
       "```python\n",
       "# Imputation\n",
       "final_imputer = SimpleImputer(strategy='median')\n",
       "final_X_train = pd.DataFrame(final_imputer.fit_transform(X_train))\n",
       "final_X_valid = pd.DataFrame(final_imputer.transform(X_valid))\n",
       "\n",
       "# Imputation removed column names; put them back\n",
       "final_X_train.columns = X_train.columns\n",
       "final_X_valid.columns = X_valid.columns\n",
       "\n",
       "```"
      ],
      "text/plain": [
       "Solution: \n",
       "```python\n",
       "# Imputation\n",
       "final_imputer = SimpleImputer(strategy='median')\n",
       "final_X_train = pd.DataFrame(final_imputer.fit_transform(X_train))\n",
       "final_X_valid = pd.DataFrame(final_imputer.transform(X_valid))\n",
       "\n",
       "# Imputation removed column names; put them back\n",
       "final_X_train.columns = X_train.columns\n",
       "final_X_valid.columns = X_valid.columns\n",
       "\n",
       "```"
      ]
     },
     "metadata": {},
     "output_type": "display_data"
    }
   ],
   "source": [
    "# Lines below will give you a hint or solution code\n",
    "# step_4.a.hint()\n",
    "step_4.a.solution()"
   ]
  },
  {
   "cell_type": "markdown",
   "id": "db681a60",
   "metadata": {
    "papermill": {
     "duration": 0.045685,
     "end_time": "2022-04-07T16:59:19.419217",
     "exception": false,
     "start_time": "2022-04-07T16:59:19.373532",
     "status": "completed"
    },
    "tags": []
   },
   "source": [
    "Run the next code cell to train and evaluate a random forest model.  (*Note that we don't use the `score_dataset()` function above, because we will soon use the trained model to generate test predictions!*)"
   ]
  },
  {
   "cell_type": "code",
   "execution_count": 20,
   "id": "ab27551e",
   "metadata": {
    "execution": {
     "iopub.execute_input": "2022-04-07T16:59:19.555660Z",
     "iopub.status.busy": "2022-04-07T16:59:19.519089Z",
     "iopub.status.idle": "2022-04-07T16:59:20.716641Z",
     "shell.execute_reply": "2022-04-07T16:59:20.716041Z",
     "shell.execute_reply.started": "2022-04-07T16:56:09.239471Z"
    },
    "papermill": {
     "duration": 1.251288,
     "end_time": "2022-04-07T16:59:20.716793",
     "exception": false,
     "start_time": "2022-04-07T16:59:19.465505",
     "status": "completed"
    },
    "tags": []
   },
   "outputs": [
    {
     "name": "stdout",
     "output_type": "stream",
     "text": [
      "MAE (Your approach): Imputation\n",
      "17791.59899543379\n"
     ]
    }
   ],
   "source": [
    "# Define and fit model\n",
    "model = RandomForestRegressor(n_estimators=100, random_state=0)\n",
    "model.fit(final_X_train, y_train)\n",
    "\n",
    "# Get validation predictions and MAE\n",
    "preds_valid = model.predict(final_X_valid)\n",
    "print(\"MAE (Your approach): Imputation\")\n",
    "print(mean_absolute_error(y_valid, preds_valid))"
   ]
  },
  {
   "cell_type": "markdown",
   "id": "bce53d32",
   "metadata": {
    "papermill": {
     "duration": 0.048262,
     "end_time": "2022-04-07T16:59:20.811989",
     "exception": false,
     "start_time": "2022-04-07T16:59:20.763727",
     "status": "completed"
    },
    "tags": []
   },
   "source": [
    "### Part B\n",
    "\n",
    "Use the next code cell to preprocess your test data.  Make sure that you use a method that agrees with how you preprocessed the training and validation data, and set the preprocessed test features to `final_X_test`.\n",
    "\n",
    "Then, use the preprocessed test features and the trained model to generate test predictions in `preds_test`.\n",
    "\n",
    "In order for this step to be marked correct, you need only ensure:\n",
    "- the preprocessed test DataFrame has no missing values, and\n",
    "- `final_X_test` has the same number of rows as `X_test`."
   ]
  },
  {
   "cell_type": "code",
   "execution_count": 21,
   "id": "1de36180",
   "metadata": {
    "execution": {
     "iopub.execute_input": "2022-04-07T16:59:20.923208Z",
     "iopub.status.busy": "2022-04-07T16:59:20.922166Z",
     "iopub.status.idle": "2022-04-07T16:59:20.973210Z",
     "shell.execute_reply": "2022-04-07T16:59:20.973709Z",
     "shell.execute_reply.started": "2022-04-07T16:57:31.967392Z"
    },
    "papermill": {
     "duration": 0.107499,
     "end_time": "2022-04-07T16:59:20.973877",
     "exception": false,
     "start_time": "2022-04-07T16:59:20.866378",
     "status": "completed"
    },
    "tags": []
   },
   "outputs": [
    {
     "name": "stderr",
     "output_type": "stream",
     "text": [
      "/opt/conda/lib/python3.7/site-packages/sklearn/base.py:446: UserWarning: X does not have valid feature names, but RandomForestRegressor was fitted with feature names\n",
      "  \"X does not have valid feature names, but\"\n"
     ]
    },
    {
     "data": {
      "application/javascript": [
       "parent.postMessage({\"jupyterEvent\": \"custom.exercise_interaction\", \"data\": {\"outcomeType\": 1, \"valueTowardsCompletion\": 1.0, \"interactionType\": 1, \"questionType\": 2, \"questionId\": \"4.2_PredsCodeB\", \"learnToolsVersion\": \"0.3.4\", \"failureMessage\": \"\", \"exceptionClass\": \"\", \"trace\": \"\"}}, \"*\")"
      ],
      "text/plain": [
       "<IPython.core.display.Javascript object>"
      ]
     },
     "metadata": {},
     "output_type": "display_data"
    },
    {
     "data": {
      "text/markdown": [
       "<span style=\"color:#33cc33\">Correct</span>"
      ],
      "text/plain": [
       "Correct"
      ]
     },
     "metadata": {},
     "output_type": "display_data"
    }
   ],
   "source": [
    "# Fill in the line below: preprocess test data\n",
    "final_X_test = pd.DataFrame(final_imputer.transform(X_test))\n",
    "\n",
    "# Fill in the line below: get test predictions\n",
    "preds_test = model.predict(final_X_test)\n",
    "\n",
    "# Check your answers\n",
    "step_4.b.check()"
   ]
  },
  {
   "cell_type": "code",
   "execution_count": 22,
   "id": "24dd9fd1",
   "metadata": {
    "execution": {
     "iopub.execute_input": "2022-04-07T16:59:21.074984Z",
     "iopub.status.busy": "2022-04-07T16:59:21.074297Z",
     "iopub.status.idle": "2022-04-07T16:59:21.076382Z",
     "shell.execute_reply": "2022-04-07T16:59:21.076932Z",
     "shell.execute_reply.started": "2022-04-07T16:58:10.479512Z"
    },
    "papermill": {
     "duration": 0.054809,
     "end_time": "2022-04-07T16:59:21.077099",
     "exception": false,
     "start_time": "2022-04-07T16:59:21.022290",
     "status": "completed"
    },
    "tags": []
   },
   "outputs": [],
   "source": [
    "# Lines below will give you a hint or solution code\n",
    "#step_4.b.hint()\n",
    "# step_4.b.solution()"
   ]
  },
  {
   "cell_type": "markdown",
   "id": "503cd04e",
   "metadata": {
    "papermill": {
     "duration": 0.047477,
     "end_time": "2022-04-07T16:59:21.172658",
     "exception": false,
     "start_time": "2022-04-07T16:59:21.125181",
     "status": "completed"
    },
    "tags": []
   },
   "source": [
    "Run the next code cell without changes to save your results to a CSV file that can be submitted directly to the competition."
   ]
  },
  {
   "cell_type": "code",
   "execution_count": 23,
   "id": "16ae0bf8",
   "metadata": {
    "execution": {
     "iopub.execute_input": "2022-04-07T16:59:21.273975Z",
     "iopub.status.busy": "2022-04-07T16:59:21.272941Z",
     "iopub.status.idle": "2022-04-07T16:59:21.286421Z",
     "shell.execute_reply": "2022-04-07T16:59:21.285756Z",
     "shell.execute_reply.started": "2022-04-07T16:58:14.006704Z"
    },
    "papermill": {
     "duration": 0.06471,
     "end_time": "2022-04-07T16:59:21.286566",
     "exception": false,
     "start_time": "2022-04-07T16:59:21.221856",
     "status": "completed"
    },
    "tags": []
   },
   "outputs": [],
   "source": [
    "# Save test predictions to file\n",
    "output = pd.DataFrame({'Id': X_test.index,\n",
    "                       'SalePrice': preds_test})\n",
    "output.to_csv('submission.csv', index=False)"
   ]
  },
  {
   "cell_type": "markdown",
   "id": "339c4110",
   "metadata": {
    "papermill": {
     "duration": 0.047804,
     "end_time": "2022-04-07T16:59:21.383550",
     "exception": false,
     "start_time": "2022-04-07T16:59:21.335746",
     "status": "completed"
    },
    "tags": []
   },
   "source": [
    "# Submit your results\n",
    "\n",
    "Once you have successfully completed Step 4, you're ready to submit your results to the leaderboard!  (_You also learned how to do this in the previous exercise.  If you need a reminder of how to do this, please use the instructions below._)  \n",
    "\n",
    "First, you'll need to join the competition if you haven't already.  So open a new window by clicking on [this link](https://www.kaggle.com/c/home-data-for-ml-course).  Then click on the **Join Competition** button.\n",
    "\n",
    "![join competition image](https://i.imgur.com/wLmFtH3.png)\n",
    "\n",
    "Next, follow the instructions below:\n",
    "1. Begin by clicking on the **Save Version** button in the top right corner of the window.  This will generate a pop-up window.  \n",
    "2. Ensure that the **Save and Run All** option is selected, and then click on the **Save** button.\n",
    "3. This generates a window in the bottom left corner of the notebook.  After it has finished running, click on the number to the right of the **Save Version** button.  This pulls up a list of versions on the right of the screen.  Click on the ellipsis **(...)** to the right of the most recent version, and select **Open in Viewer**.  This brings you into view mode of the same page. You will need to scroll down to get back to these instructions.\n",
    "4. Click on the **Output** tab on the right of the screen.  Then, click on the file you would like to submit, and click on the **Submit** button to submit your results to the leaderboard.\n",
    "\n",
    "You have now successfully submitted to the competition!\n",
    "\n",
    "If you want to keep working to improve your performance, select the **Edit** button in the top right of the screen. Then you can change your code and repeat the process. There's a lot of room to improve, and you will climb up the leaderboard as you work.\n",
    "\n",
    "\n",
    "# Keep going\n",
    "\n",
    "Move on to learn what **[categorical variables](https://www.kaggle.com/alexisbcook/categorical-variables)** are, along with how to incorporate them into your machine learning models.  Categorical variables are very common in real-world data, but you'll get an error if you try to plug them into your models without processing them first!"
   ]
  },
  {
   "cell_type": "markdown",
   "id": "3ea72bce",
   "metadata": {
    "papermill": {
     "duration": 0.047629,
     "end_time": "2022-04-07T16:59:21.480967",
     "exception": false,
     "start_time": "2022-04-07T16:59:21.433338",
     "status": "completed"
    },
    "tags": []
   },
   "source": [
    "---\n",
    "\n",
    "\n",
    "\n",
    "\n",
    "*Have questions or comments? Visit the [course discussion forum](https://www.kaggle.com/learn/intermediate-machine-learning/discussion) to chat with other learners.*"
   ]
  }
 ],
 "metadata": {
  "kernelspec": {
   "display_name": "Python 3",
   "language": "python",
   "name": "python3"
  },
  "language_info": {
   "codemirror_mode": {
    "name": "ipython",
    "version": 3
   },
   "file_extension": ".py",
   "mimetype": "text/x-python",
   "name": "python",
   "nbconvert_exporter": "python",
   "pygments_lexer": "ipython3",
   "version": "3.7.12"
  },
  "papermill": {
   "default_parameters": {},
   "duration": 19.085809,
   "end_time": "2022-04-07T16:59:22.239845",
   "environment_variables": {},
   "exception": null,
   "input_path": "__notebook__.ipynb",
   "output_path": "__notebook__.ipynb",
   "parameters": {},
   "start_time": "2022-04-07T16:59:03.154036",
   "version": "2.3.3"
  }
 },
 "nbformat": 4,
 "nbformat_minor": 5
}
